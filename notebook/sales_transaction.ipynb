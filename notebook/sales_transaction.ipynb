{
 "cells": [
  {
   "cell_type": "markdown",
   "metadata": {},
   "source": [
    "# 1. Data Preprocessing\n",
    "## Loading Data:"
   ]
  },
  {
   "cell_type": "code",
   "execution_count": 87,
   "metadata": {},
   "outputs": [
    {
     "data": {
      "text/html": [
       "<div>\n",
       "<style scoped>\n",
       "    .dataframe tbody tr th:only-of-type {\n",
       "        vertical-align: middle;\n",
       "    }\n",
       "\n",
       "    .dataframe tbody tr th {\n",
       "        vertical-align: top;\n",
       "    }\n",
       "\n",
       "    .dataframe thead th {\n",
       "        text-align: right;\n",
       "    }\n",
       "</style>\n",
       "<table border=\"1\" class=\"dataframe\">\n",
       "  <thead>\n",
       "    <tr style=\"text-align: right;\">\n",
       "      <th></th>\n",
       "      <th>TransactionID</th>\n",
       "      <th>CustomerID</th>\n",
       "      <th>TransactionDate</th>\n",
       "      <th>ProductID</th>\n",
       "      <th>ProductCategory</th>\n",
       "      <th>Quantity</th>\n",
       "      <th>PricePerUnit</th>\n",
       "      <th>TotalAmount</th>\n",
       "      <th>TrustPointsUsed</th>\n",
       "      <th>PaymentMethod</th>\n",
       "      <th>DiscountApplied</th>\n",
       "    </tr>\n",
       "  </thead>\n",
       "  <tbody>\n",
       "    <tr>\n",
       "      <th>0</th>\n",
       "      <td>1</td>\n",
       "      <td>1002.0</td>\n",
       "      <td>08/08/24 22:00</td>\n",
       "      <td>2008</td>\n",
       "      <td>Grocery</td>\n",
       "      <td>1</td>\n",
       "      <td>10.0</td>\n",
       "      <td>10.0</td>\n",
       "      <td>20</td>\n",
       "      <td>Trust Points</td>\n",
       "      <td>5.0</td>\n",
       "    </tr>\n",
       "    <tr>\n",
       "      <th>1</th>\n",
       "      <td>2</td>\n",
       "      <td>NaN</td>\n",
       "      <td>07/08/24 1:00</td>\n",
       "      <td>2004</td>\n",
       "      <td>Home Decor</td>\n",
       "      <td>1</td>\n",
       "      <td>10.0</td>\n",
       "      <td>10.0</td>\n",
       "      <td>0</td>\n",
       "      <td>Credit Card</td>\n",
       "      <td>20.0</td>\n",
       "    </tr>\n",
       "    <tr>\n",
       "      <th>2</th>\n",
       "      <td>3</td>\n",
       "      <td>1004.0</td>\n",
       "      <td>02/08/24 19:00</td>\n",
       "      <td>2002</td>\n",
       "      <td>Grocery</td>\n",
       "      <td>3</td>\n",
       "      <td>30.0</td>\n",
       "      <td>90.0</td>\n",
       "      <td>0</td>\n",
       "      <td>Credit Card</td>\n",
       "      <td>25.0</td>\n",
       "    </tr>\n",
       "    <tr>\n",
       "      <th>3</th>\n",
       "      <td>2</td>\n",
       "      <td>1003.0</td>\n",
       "      <td>07/08/24 17:00</td>\n",
       "      <td>2001</td>\n",
       "      <td>Toys</td>\n",
       "      <td>2</td>\n",
       "      <td>30.0</td>\n",
       "      <td>60.0</td>\n",
       "      <td>50</td>\n",
       "      <td>NaN</td>\n",
       "      <td>20.0</td>\n",
       "    </tr>\n",
       "    <tr>\n",
       "      <th>4</th>\n",
       "      <td>5</td>\n",
       "      <td>1001.0</td>\n",
       "      <td>09/08/24 9:00</td>\n",
       "      <td>2008</td>\n",
       "      <td>Grocery</td>\n",
       "      <td>1</td>\n",
       "      <td>NaN</td>\n",
       "      <td>NaN</td>\n",
       "      <td>20</td>\n",
       "      <td>Trust Points</td>\n",
       "      <td>5.0</td>\n",
       "    </tr>\n",
       "  </tbody>\n",
       "</table>\n",
       "</div>"
      ],
      "text/plain": [
       "   TransactionID  CustomerID TransactionDate  ProductID ProductCategory  \\\n",
       "0              1      1002.0  08/08/24 22:00       2008         Grocery   \n",
       "1              2         NaN   07/08/24 1:00       2004      Home Decor   \n",
       "2              3      1004.0  02/08/24 19:00       2002         Grocery   \n",
       "3              2      1003.0  07/08/24 17:00       2001            Toys   \n",
       "4              5      1001.0   09/08/24 9:00       2008         Grocery   \n",
       "\n",
       "   Quantity  PricePerUnit  TotalAmount  TrustPointsUsed PaymentMethod  \\\n",
       "0         1          10.0         10.0               20  Trust Points   \n",
       "1         1          10.0         10.0                0   Credit Card   \n",
       "2         3          30.0         90.0                0   Credit Card   \n",
       "3         2          30.0         60.0               50           NaN   \n",
       "4         1           NaN          NaN               20  Trust Points   \n",
       "\n",
       "   DiscountApplied  \n",
       "0              5.0  \n",
       "1             20.0  \n",
       "2             25.0  \n",
       "3             20.0  \n",
       "4              5.0  "
      ]
     },
     "execution_count": 87,
     "metadata": {},
     "output_type": "execute_result"
    }
   ],
   "source": [
    "import pandas as pd\n",
    "\n",
    "# Load the data\n",
    "df = pd.read_csv('D:/Yuma_Energy_Assessment/notebook/data/Data_Source_(sales_transactions).csv')\n",
    "df.head()"
   ]
  },
  {
   "cell_type": "markdown",
   "metadata": {},
   "source": [
    "## Initial Inspection:\n",
    "Check the first few rows, data types, and summary statistics."
   ]
  },
  {
   "cell_type": "code",
   "execution_count": 88,
   "metadata": {},
   "outputs": [
    {
     "name": "stdout",
     "output_type": "stream",
     "text": [
      "<class 'pandas.core.frame.DataFrame'>\n",
      "RangeIndex: 50 entries, 0 to 49\n",
      "Data columns (total 11 columns):\n",
      " #   Column           Non-Null Count  Dtype  \n",
      "---  ------           --------------  -----  \n",
      " 0   TransactionID    50 non-null     int64  \n",
      " 1   CustomerID       45 non-null     float64\n",
      " 2   TransactionDate  49 non-null     object \n",
      " 3   ProductID        50 non-null     int64  \n",
      " 4   ProductCategory  50 non-null     object \n",
      " 5   Quantity         50 non-null     int64  \n",
      " 6   PricePerUnit     36 non-null     float64\n",
      " 7   TotalAmount      36 non-null     float64\n",
      " 8   TrustPointsUsed  50 non-null     int64  \n",
      " 9   PaymentMethod    40 non-null     object \n",
      " 10  DiscountApplied  45 non-null     float64\n",
      "dtypes: float64(4), int64(4), object(3)\n",
      "memory usage: 4.4+ KB\n"
     ]
    }
   ],
   "source": [
    "df.info()"
   ]
  },
  {
   "cell_type": "code",
   "execution_count": 89,
   "metadata": {},
   "outputs": [
    {
     "data": {
      "text/html": [
       "<div>\n",
       "<style scoped>\n",
       "    .dataframe tbody tr th:only-of-type {\n",
       "        vertical-align: middle;\n",
       "    }\n",
       "\n",
       "    .dataframe tbody tr th {\n",
       "        vertical-align: top;\n",
       "    }\n",
       "\n",
       "    .dataframe thead th {\n",
       "        text-align: right;\n",
       "    }\n",
       "</style>\n",
       "<table border=\"1\" class=\"dataframe\">\n",
       "  <thead>\n",
       "    <tr style=\"text-align: right;\">\n",
       "      <th></th>\n",
       "      <th>count</th>\n",
       "      <th>mean</th>\n",
       "      <th>std</th>\n",
       "      <th>min</th>\n",
       "      <th>25%</th>\n",
       "      <th>50%</th>\n",
       "      <th>75%</th>\n",
       "      <th>max</th>\n",
       "    </tr>\n",
       "  </thead>\n",
       "  <tbody>\n",
       "    <tr>\n",
       "      <th>TransactionID</th>\n",
       "      <td>50.0</td>\n",
       "      <td>25.460000</td>\n",
       "      <td>14.640188</td>\n",
       "      <td>1.0</td>\n",
       "      <td>13.25</td>\n",
       "      <td>25.5</td>\n",
       "      <td>37.75</td>\n",
       "      <td>50.0</td>\n",
       "    </tr>\n",
       "    <tr>\n",
       "      <th>CustomerID</th>\n",
       "      <td>45.0</td>\n",
       "      <td>1002.444444</td>\n",
       "      <td>1.306549</td>\n",
       "      <td>1001.0</td>\n",
       "      <td>1001.00</td>\n",
       "      <td>1002.0</td>\n",
       "      <td>1003.00</td>\n",
       "      <td>1005.0</td>\n",
       "    </tr>\n",
       "    <tr>\n",
       "      <th>ProductID</th>\n",
       "      <td>50.0</td>\n",
       "      <td>2004.920000</td>\n",
       "      <td>2.284285</td>\n",
       "      <td>2001.0</td>\n",
       "      <td>2003.00</td>\n",
       "      <td>2005.0</td>\n",
       "      <td>2007.00</td>\n",
       "      <td>2008.0</td>\n",
       "    </tr>\n",
       "    <tr>\n",
       "      <th>Quantity</th>\n",
       "      <td>50.0</td>\n",
       "      <td>1.420000</td>\n",
       "      <td>1.263135</td>\n",
       "      <td>-1.0</td>\n",
       "      <td>1.00</td>\n",
       "      <td>1.0</td>\n",
       "      <td>2.00</td>\n",
       "      <td>5.0</td>\n",
       "    </tr>\n",
       "    <tr>\n",
       "      <th>PricePerUnit</th>\n",
       "      <td>36.0</td>\n",
       "      <td>125.277778</td>\n",
       "      <td>188.292874</td>\n",
       "      <td>10.0</td>\n",
       "      <td>17.50</td>\n",
       "      <td>30.0</td>\n",
       "      <td>100.00</td>\n",
       "      <td>500.0</td>\n",
       "    </tr>\n",
       "    <tr>\n",
       "      <th>TotalAmount</th>\n",
       "      <td>36.0</td>\n",
       "      <td>155.277778</td>\n",
       "      <td>351.596247</td>\n",
       "      <td>-500.0</td>\n",
       "      <td>10.00</td>\n",
       "      <td>40.0</td>\n",
       "      <td>150.00</td>\n",
       "      <td>1500.0</td>\n",
       "    </tr>\n",
       "    <tr>\n",
       "      <th>TrustPointsUsed</th>\n",
       "      <td>50.0</td>\n",
       "      <td>28.800000</td>\n",
       "      <td>39.467889</td>\n",
       "      <td>-10.0</td>\n",
       "      <td>0.00</td>\n",
       "      <td>20.0</td>\n",
       "      <td>50.00</td>\n",
       "      <td>100.0</td>\n",
       "    </tr>\n",
       "    <tr>\n",
       "      <th>DiscountApplied</th>\n",
       "      <td>45.0</td>\n",
       "      <td>23.888889</td>\n",
       "      <td>13.853490</td>\n",
       "      <td>5.0</td>\n",
       "      <td>15.00</td>\n",
       "      <td>20.0</td>\n",
       "      <td>30.00</td>\n",
       "      <td>50.0</td>\n",
       "    </tr>\n",
       "  </tbody>\n",
       "</table>\n",
       "</div>"
      ],
      "text/plain": [
       "                 count         mean         std     min      25%     50%  \\\n",
       "TransactionID     50.0    25.460000   14.640188     1.0    13.25    25.5   \n",
       "CustomerID        45.0  1002.444444    1.306549  1001.0  1001.00  1002.0   \n",
       "ProductID         50.0  2004.920000    2.284285  2001.0  2003.00  2005.0   \n",
       "Quantity          50.0     1.420000    1.263135    -1.0     1.00     1.0   \n",
       "PricePerUnit      36.0   125.277778  188.292874    10.0    17.50    30.0   \n",
       "TotalAmount       36.0   155.277778  351.596247  -500.0    10.00    40.0   \n",
       "TrustPointsUsed   50.0    28.800000   39.467889   -10.0     0.00    20.0   \n",
       "DiscountApplied   45.0    23.888889   13.853490     5.0    15.00    20.0   \n",
       "\n",
       "                     75%     max  \n",
       "TransactionID      37.75    50.0  \n",
       "CustomerID       1003.00  1005.0  \n",
       "ProductID        2007.00  2008.0  \n",
       "Quantity            2.00     5.0  \n",
       "PricePerUnit      100.00   500.0  \n",
       "TotalAmount       150.00  1500.0  \n",
       "TrustPointsUsed    50.00   100.0  \n",
       "DiscountApplied    30.00    50.0  "
      ]
     },
     "execution_count": 89,
     "metadata": {},
     "output_type": "execute_result"
    }
   ],
   "source": [
    "df.describe().T"
   ]
  },
  {
   "cell_type": "code",
   "execution_count": 90,
   "metadata": {},
   "outputs": [
    {
     "data": {
      "text/plain": [
       "TransactionID      49\n",
       "CustomerID          5\n",
       "TransactionDate    45\n",
       "ProductID           8\n",
       "ProductCategory     5\n",
       "Quantity            6\n",
       "PricePerUnit        6\n",
       "TotalAmount        16\n",
       "TrustPointsUsed     6\n",
       "PaymentMethod       3\n",
       "DiscountApplied     7\n",
       "dtype: int64"
      ]
     },
     "execution_count": 90,
     "metadata": {},
     "output_type": "execute_result"
    }
   ],
   "source": [
    "df.nunique()"
   ]
  },
  {
   "cell_type": "markdown",
   "metadata": {},
   "source": [
    "## Handling Missing Values:\n",
    "Identify and handle missing values (if any)."
   ]
  },
  {
   "cell_type": "code",
   "execution_count": 91,
   "metadata": {},
   "outputs": [
    {
     "name": "stdout",
     "output_type": "stream",
     "text": [
      "Check for missing values\n",
      "TransactionID       0\n",
      "CustomerID          5\n",
      "TransactionDate     1\n",
      "ProductID           0\n",
      "ProductCategory     0\n",
      "Quantity            0\n",
      "PricePerUnit       14\n",
      "TotalAmount        14\n",
      "TrustPointsUsed     0\n",
      "PaymentMethod      10\n",
      "DiscountApplied     5\n",
      "dtype: int64\n",
      "\n",
      "Check for missing values after filling\n",
      "TransactionID      0\n",
      "CustomerID         0\n",
      "TransactionDate    0\n",
      "ProductID          0\n",
      "ProductCategory    0\n",
      "Quantity           0\n",
      "PricePerUnit       0\n",
      "TotalAmount        0\n",
      "TrustPointsUsed    0\n",
      "PaymentMethod      0\n",
      "DiscountApplied    0\n",
      "dtype: int64\n"
     ]
    }
   ],
   "source": [
    "print('Check for missing values')\n",
    "print(df.isnull().sum())\n",
    "\n",
    "# Fill missing values with the median for numerical columns\n",
    "numerical_cols = df.select_dtypes(include=['number']).columns\n",
    "df[numerical_cols] = df[numerical_cols].fillna(df[numerical_cols].median())\n",
    "\n",
    "# Fill missing values with the mODE for categorical columns\n",
    "categorical_cols = df.select_dtypes(include=['object', 'category']).columns\n",
    "df[categorical_cols] = df[categorical_cols].fillna(df[categorical_cols].mode().iloc[0])\n",
    "\n",
    "# Check for missing values again to ensure they're filled\n",
    "print('\\nCheck for missing values after filling')\n",
    "print(df.isnull().sum())\n"
   ]
  },
  {
   "cell_type": "markdown",
   "metadata": {},
   "source": [
    "## Data Cleaning:\n",
    "Remove duplicates, standardize formats, and correct any errors."
   ]
  },
  {
   "cell_type": "code",
   "execution_count": 92,
   "metadata": {},
   "outputs": [
    {
     "name": "stdout",
     "output_type": "stream",
     "text": [
      "Index(['TransactionID', 'CustomerID', 'TransactionDate', 'ProductID',\n",
      "       'ProductCategory', 'Quantity', 'PricePerUnit', 'TotalAmount',\n",
      "       'TrustPointsUsed', 'PaymentMethod', 'DiscountApplied'],\n",
      "      dtype='object')\n"
     ]
    }
   ],
   "source": [
    "print(df.columns)  # This will show you all the column names\n"
   ]
  },
  {
   "cell_type": "code",
   "execution_count": 93,
   "metadata": {},
   "outputs": [
    {
     "name": "stdout",
     "output_type": "stream",
     "text": [
      "Empty DataFrame\n",
      "Columns: [TransactionID, CustomerID, TransactionDate, ProductID, ProductCategory, Quantity, PricePerUnit, TotalAmount, TrustPointsUsed, PaymentMethod, DiscountApplied]\n",
      "Index: []\n"
     ]
    }
   ],
   "source": [
    "# Display rows that are duplicated\n",
    "duplicate_rows = df[df.duplicated(keep=False)]\n",
    "print(duplicate_rows)\n"
   ]
  },
  {
   "cell_type": "markdown",
   "metadata": {},
   "source": [
    "There are no duplicate values present"
   ]
  },
  {
   "cell_type": "code",
   "execution_count": 94,
   "metadata": {},
   "outputs": [
    {
     "name": "stdout",
     "output_type": "stream",
     "text": [
      "Index(['Transaction_ID', 'Customer_ID', 'Transaction_Date', 'Product_ID',\n",
      "       'Product_Category', 'Quantity', 'Price_Per_Unit', 'Total_Amount',\n",
      "       'Trust_Points_Used', 'Payment_Method', 'Discount_Applied'],\n",
      "      dtype='object')\n"
     ]
    }
   ],
   "source": [
    "# Define a dictionary for renaming columns\n",
    "rename_columns = {\n",
    "    'TransactionID': 'Transaction_ID',\n",
    "    'CustomerID': 'Customer_ID',\n",
    "    'TransactionDate': 'Transaction_Date',\n",
    "    'ProductID': 'Product_ID',\n",
    "    'ProductCategory': 'Product_Category',\n",
    "    'Quantity': 'Quantity',\n",
    "    'PricePerUnit': 'Price_Per_Unit',\n",
    "    'TotalAmount': 'Total_Amount',\n",
    "    'TrustPointsUsed': 'Trust_Points_Used',\n",
    "    'PaymentMethod': 'Payment_Method',\n",
    "    'DiscountApplied': 'Discount_Applied'\n",
    "}\n",
    "\n",
    "# Rename the columns\n",
    "df.rename(columns=rename_columns, inplace=True)\n",
    "\n",
    "# Display the renamed columns to verify\n",
    "print(df.columns)\n"
   ]
  },
  {
   "cell_type": "code",
   "execution_count": 95,
   "metadata": {},
   "outputs": [
    {
     "name": "stderr",
     "output_type": "stream",
     "text": [
      "C:\\Users\\user\\AppData\\Local\\Temp\\ipykernel_19516\\3823679102.py:2: UserWarning: Could not infer format, so each element will be parsed individually, falling back to `dateutil`. To ensure parsing is consistent and as-expected, please specify a format.\n",
      "  df['Transaction_Date'] = pd.to_datetime(df['Transaction_Date'], errors='coerce')\n"
     ]
    },
    {
     "data": {
      "text/plain": [
       "0    2024-08-08\n",
       "1    2024-07-08\n",
       "2    2024-02-08\n",
       "3    2024-07-08\n",
       "4    2024-09-08\n",
       "Name: Transaction_Date, dtype: object"
      ]
     },
     "execution_count": 95,
     "metadata": {},
     "output_type": "execute_result"
    }
   ],
   "source": [
    "# Convert Transaction_Date to datetime format (use the renamed column name)\n",
    "df['Transaction_Date'] = pd.to_datetime(df['Transaction_Date'], errors='coerce')\n",
    "\n",
    "# Extract the date (removes the time part)\n",
    "df['Transaction_Date'] = df['Transaction_Date'].dt.date\n",
    "\n",
    "# Display the first few rows to verify\n",
    "df['Transaction_Date'].head()\n"
   ]
  },
  {
   "cell_type": "code",
   "execution_count": 96,
   "metadata": {},
   "outputs": [
    {
     "data": {
      "text/html": [
       "<div>\n",
       "<style scoped>\n",
       "    .dataframe tbody tr th:only-of-type {\n",
       "        vertical-align: middle;\n",
       "    }\n",
       "\n",
       "    .dataframe tbody tr th {\n",
       "        vertical-align: top;\n",
       "    }\n",
       "\n",
       "    .dataframe thead th {\n",
       "        text-align: right;\n",
       "    }\n",
       "</style>\n",
       "<table border=\"1\" class=\"dataframe\">\n",
       "  <thead>\n",
       "    <tr style=\"text-align: right;\">\n",
       "      <th></th>\n",
       "      <th>Transaction_ID</th>\n",
       "      <th>Customer_ID</th>\n",
       "      <th>Transaction_Date</th>\n",
       "      <th>Product_ID</th>\n",
       "      <th>Product_Category</th>\n",
       "      <th>Quantity</th>\n",
       "      <th>Price_Per_Unit</th>\n",
       "      <th>Total_Amount</th>\n",
       "      <th>Trust_Points_Used</th>\n",
       "      <th>Payment_Method</th>\n",
       "      <th>Discount_Applied</th>\n",
       "    </tr>\n",
       "  </thead>\n",
       "  <tbody>\n",
       "    <tr>\n",
       "      <th>0</th>\n",
       "      <td>1</td>\n",
       "      <td>1002.0</td>\n",
       "      <td>2024-08-08</td>\n",
       "      <td>2008</td>\n",
       "      <td>Grocery</td>\n",
       "      <td>1</td>\n",
       "      <td>10.0</td>\n",
       "      <td>10.0</td>\n",
       "      <td>20</td>\n",
       "      <td>Trust Points</td>\n",
       "      <td>5.0</td>\n",
       "    </tr>\n",
       "    <tr>\n",
       "      <th>1</th>\n",
       "      <td>2</td>\n",
       "      <td>1002.0</td>\n",
       "      <td>2024-07-08</td>\n",
       "      <td>2004</td>\n",
       "      <td>Home Decor</td>\n",
       "      <td>1</td>\n",
       "      <td>10.0</td>\n",
       "      <td>10.0</td>\n",
       "      <td>0</td>\n",
       "      <td>Credit Card</td>\n",
       "      <td>20.0</td>\n",
       "    </tr>\n",
       "    <tr>\n",
       "      <th>2</th>\n",
       "      <td>3</td>\n",
       "      <td>1004.0</td>\n",
       "      <td>2024-02-08</td>\n",
       "      <td>2002</td>\n",
       "      <td>Grocery</td>\n",
       "      <td>3</td>\n",
       "      <td>30.0</td>\n",
       "      <td>90.0</td>\n",
       "      <td>0</td>\n",
       "      <td>Credit Card</td>\n",
       "      <td>25.0</td>\n",
       "    </tr>\n",
       "    <tr>\n",
       "      <th>3</th>\n",
       "      <td>2</td>\n",
       "      <td>1003.0</td>\n",
       "      <td>2024-07-08</td>\n",
       "      <td>2001</td>\n",
       "      <td>Toys</td>\n",
       "      <td>2</td>\n",
       "      <td>30.0</td>\n",
       "      <td>60.0</td>\n",
       "      <td>50</td>\n",
       "      <td>Cash</td>\n",
       "      <td>20.0</td>\n",
       "    </tr>\n",
       "    <tr>\n",
       "      <th>4</th>\n",
       "      <td>5</td>\n",
       "      <td>1001.0</td>\n",
       "      <td>2024-09-08</td>\n",
       "      <td>2008</td>\n",
       "      <td>Grocery</td>\n",
       "      <td>1</td>\n",
       "      <td>30.0</td>\n",
       "      <td>40.0</td>\n",
       "      <td>20</td>\n",
       "      <td>Trust Points</td>\n",
       "      <td>5.0</td>\n",
       "    </tr>\n",
       "  </tbody>\n",
       "</table>\n",
       "</div>"
      ],
      "text/plain": [
       "   Transaction_ID  Customer_ID Transaction_Date  Product_ID Product_Category  \\\n",
       "0               1       1002.0       2024-08-08        2008          Grocery   \n",
       "1               2       1002.0       2024-07-08        2004       Home Decor   \n",
       "2               3       1004.0       2024-02-08        2002          Grocery   \n",
       "3               2       1003.0       2024-07-08        2001             Toys   \n",
       "4               5       1001.0       2024-09-08        2008          Grocery   \n",
       "\n",
       "   Quantity  Price_Per_Unit  Total_Amount  Trust_Points_Used Payment_Method  \\\n",
       "0         1            10.0          10.0                 20   Trust Points   \n",
       "1         1            10.0          10.0                  0    Credit Card   \n",
       "2         3            30.0          90.0                  0    Credit Card   \n",
       "3         2            30.0          60.0                 50           Cash   \n",
       "4         1            30.0          40.0                 20   Trust Points   \n",
       "\n",
       "   Discount_Applied  \n",
       "0               5.0  \n",
       "1              20.0  \n",
       "2              25.0  \n",
       "3              20.0  \n",
       "4               5.0  "
      ]
     },
     "execution_count": 96,
     "metadata": {},
     "output_type": "execute_result"
    }
   ],
   "source": [
    "df.head(5)"
   ]
  },
  {
   "cell_type": "markdown",
   "metadata": {},
   "source": [
    "Thought Process:\n",
    "\n",
    "The goal here is to ensure that the data is clean, consistent, and free of errors before any analysis. This involves checking the structure, dealing with missing values, and ensuring that all data formats are standardized. This step is crucial because any issues in the raw data can lead to incorrect conclusions."
   ]
  },
  {
   "cell_type": "code",
   "execution_count": 97,
   "metadata": {},
   "outputs": [],
   "source": [
    "df.to_csv('D:/Yuma_Energy_Assessment/notebook/data/clean_data.csv')"
   ]
  },
  {
   "cell_type": "markdown",
   "metadata": {},
   "source": [
    "# 2. Data Aggregation and Grouping\n",
    "\n",
    "## Numerical Columns:\n",
    "\n",
    "Columns like Total_Amount, quantity, etc., can be aggregated.\n",
    "Example Aggregations: sum, mean, median, count."
   ]
  },
  {
   "cell_type": "code",
   "execution_count": 98,
   "metadata": {},
   "outputs": [],
   "source": [
    "data = pd.read_csv('D:/Yuma_Energy_Assessment/notebook/data/clean_data.csv')"
   ]
  },
  {
   "cell_type": "code",
   "execution_count": 99,
   "metadata": {},
   "outputs": [
    {
     "data": {
      "text/html": [
       "<div>\n",
       "<style scoped>\n",
       "    .dataframe tbody tr th:only-of-type {\n",
       "        vertical-align: middle;\n",
       "    }\n",
       "\n",
       "    .dataframe tbody tr th {\n",
       "        vertical-align: top;\n",
       "    }\n",
       "\n",
       "    .dataframe thead tr th {\n",
       "        text-align: left;\n",
       "    }\n",
       "\n",
       "    .dataframe thead tr:last-of-type th {\n",
       "        text-align: right;\n",
       "    }\n",
       "</style>\n",
       "<table border=\"1\" class=\"dataframe\">\n",
       "  <thead>\n",
       "    <tr>\n",
       "      <th></th>\n",
       "      <th colspan=\"3\" halign=\"left\">Total_Amount</th>\n",
       "      <th colspan=\"2\" halign=\"left\">Quantity</th>\n",
       "    </tr>\n",
       "    <tr>\n",
       "      <th></th>\n",
       "      <th>sum</th>\n",
       "      <th>mean</th>\n",
       "      <th>count</th>\n",
       "      <th>sum</th>\n",
       "      <th>mean</th>\n",
       "    </tr>\n",
       "    <tr>\n",
       "      <th>Product_Category</th>\n",
       "      <th></th>\n",
       "      <th></th>\n",
       "      <th></th>\n",
       "      <th></th>\n",
       "      <th></th>\n",
       "    </tr>\n",
       "  </thead>\n",
       "  <tbody>\n",
       "    <tr>\n",
       "      <th>Electronics</th>\n",
       "      <td>440.0</td>\n",
       "      <td>33.846154</td>\n",
       "      <td>13</td>\n",
       "      <td>12</td>\n",
       "      <td>0.923077</td>\n",
       "    </tr>\n",
       "    <tr>\n",
       "      <th>Fashion</th>\n",
       "      <td>2170.0</td>\n",
       "      <td>361.666667</td>\n",
       "      <td>6</td>\n",
       "      <td>9</td>\n",
       "      <td>1.500000</td>\n",
       "    </tr>\n",
       "    <tr>\n",
       "      <th>Grocery</th>\n",
       "      <td>480.0</td>\n",
       "      <td>60.000000</td>\n",
       "      <td>8</td>\n",
       "      <td>19</td>\n",
       "      <td>2.375000</td>\n",
       "    </tr>\n",
       "    <tr>\n",
       "      <th>Home Decor</th>\n",
       "      <td>2140.0</td>\n",
       "      <td>214.000000</td>\n",
       "      <td>10</td>\n",
       "      <td>10</td>\n",
       "      <td>1.000000</td>\n",
       "    </tr>\n",
       "    <tr>\n",
       "      <th>Toys</th>\n",
       "      <td>920.0</td>\n",
       "      <td>70.769231</td>\n",
       "      <td>13</td>\n",
       "      <td>21</td>\n",
       "      <td>1.615385</td>\n",
       "    </tr>\n",
       "  </tbody>\n",
       "</table>\n",
       "</div>"
      ],
      "text/plain": [
       "                 Total_Amount                   Quantity          \n",
       "                          sum        mean count      sum      mean\n",
       "Product_Category                                                  \n",
       "Electronics             440.0   33.846154    13       12  0.923077\n",
       "Fashion                2170.0  361.666667     6        9  1.500000\n",
       "Grocery                 480.0   60.000000     8       19  2.375000\n",
       "Home Decor             2140.0  214.000000    10       10  1.000000\n",
       "Toys                    920.0   70.769231    13       21  1.615385"
      ]
     },
     "execution_count": 99,
     "metadata": {},
     "output_type": "execute_result"
    }
   ],
   "source": [
    "# Example: Aggregating sales data by product category\n",
    "aggregated_data = df.groupby('Product_Category').agg({\n",
    "    'Total_Amount': ['sum', 'mean', 'count'],\n",
    "    'Quantity': ['sum', 'mean']\n",
    "})\n",
    "aggregated_data"
   ]
  },
  {
   "cell_type": "code",
   "execution_count": 100,
   "metadata": {},
   "outputs": [
    {
     "data": {
      "text/html": [
       "<div>\n",
       "<style scoped>\n",
       "    .dataframe tbody tr th:only-of-type {\n",
       "        vertical-align: middle;\n",
       "    }\n",
       "\n",
       "    .dataframe tbody tr th {\n",
       "        vertical-align: top;\n",
       "    }\n",
       "\n",
       "    .dataframe thead tr th {\n",
       "        text-align: left;\n",
       "    }\n",
       "\n",
       "    .dataframe thead tr:last-of-type th {\n",
       "        text-align: right;\n",
       "    }\n",
       "</style>\n",
       "<table border=\"1\" class=\"dataframe\">\n",
       "  <thead>\n",
       "    <tr>\n",
       "      <th></th>\n",
       "      <th colspan=\"3\" halign=\"left\">Total_Amount</th>\n",
       "      <th colspan=\"2\" halign=\"left\">Quantity</th>\n",
       "    </tr>\n",
       "    <tr>\n",
       "      <th></th>\n",
       "      <th>sum</th>\n",
       "      <th>mean</th>\n",
       "      <th>count</th>\n",
       "      <th>sum</th>\n",
       "      <th>mean</th>\n",
       "    </tr>\n",
       "    <tr>\n",
       "      <th>Transaction_Date</th>\n",
       "      <th></th>\n",
       "      <th></th>\n",
       "      <th></th>\n",
       "      <th></th>\n",
       "      <th></th>\n",
       "    </tr>\n",
       "  </thead>\n",
       "  <tbody>\n",
       "    <tr>\n",
       "      <th>2024-01-08</th>\n",
       "      <td>1170.0</td>\n",
       "      <td>167.142857</td>\n",
       "      <td>7</td>\n",
       "      <td>8</td>\n",
       "      <td>1.142857</td>\n",
       "    </tr>\n",
       "    <tr>\n",
       "      <th>2024-02-08</th>\n",
       "      <td>1470.0</td>\n",
       "      <td>183.750000</td>\n",
       "      <td>8</td>\n",
       "      <td>12</td>\n",
       "      <td>1.500000</td>\n",
       "    </tr>\n",
       "    <tr>\n",
       "      <th>2024-03-08</th>\n",
       "      <td>660.0</td>\n",
       "      <td>165.000000</td>\n",
       "      <td>4</td>\n",
       "      <td>5</td>\n",
       "      <td>1.250000</td>\n",
       "    </tr>\n",
       "    <tr>\n",
       "      <th>2024-04-08</th>\n",
       "      <td>260.0</td>\n",
       "      <td>52.000000</td>\n",
       "      <td>5</td>\n",
       "      <td>8</td>\n",
       "      <td>1.600000</td>\n",
       "    </tr>\n",
       "    <tr>\n",
       "      <th>2024-05-08</th>\n",
       "      <td>1500.0</td>\n",
       "      <td>1500.000000</td>\n",
       "      <td>1</td>\n",
       "      <td>3</td>\n",
       "      <td>3.000000</td>\n",
       "    </tr>\n",
       "    <tr>\n",
       "      <th>2024-06-08</th>\n",
       "      <td>270.0</td>\n",
       "      <td>38.571429</td>\n",
       "      <td>7</td>\n",
       "      <td>2</td>\n",
       "      <td>0.285714</td>\n",
       "    </tr>\n",
       "    <tr>\n",
       "      <th>2024-07-08</th>\n",
       "      <td>310.0</td>\n",
       "      <td>51.666667</td>\n",
       "      <td>6</td>\n",
       "      <td>9</td>\n",
       "      <td>1.500000</td>\n",
       "    </tr>\n",
       "    <tr>\n",
       "      <th>2024-08-08</th>\n",
       "      <td>200.0</td>\n",
       "      <td>66.666667</td>\n",
       "      <td>3</td>\n",
       "      <td>5</td>\n",
       "      <td>1.666667</td>\n",
       "    </tr>\n",
       "    <tr>\n",
       "      <th>2024-09-08</th>\n",
       "      <td>280.0</td>\n",
       "      <td>35.000000</td>\n",
       "      <td>8</td>\n",
       "      <td>18</td>\n",
       "      <td>2.250000</td>\n",
       "    </tr>\n",
       "    <tr>\n",
       "      <th>2024-10-08</th>\n",
       "      <td>30.0</td>\n",
       "      <td>30.000000</td>\n",
       "      <td>1</td>\n",
       "      <td>1</td>\n",
       "      <td>1.000000</td>\n",
       "    </tr>\n",
       "  </tbody>\n",
       "</table>\n",
       "</div>"
      ],
      "text/plain": [
       "                 Total_Amount                    Quantity          \n",
       "                          sum         mean count      sum      mean\n",
       "Transaction_Date                                                   \n",
       "2024-01-08             1170.0   167.142857     7        8  1.142857\n",
       "2024-02-08             1470.0   183.750000     8       12  1.500000\n",
       "2024-03-08              660.0   165.000000     4        5  1.250000\n",
       "2024-04-08              260.0    52.000000     5        8  1.600000\n",
       "2024-05-08             1500.0  1500.000000     1        3  3.000000\n",
       "2024-06-08              270.0    38.571429     7        2  0.285714\n",
       "2024-07-08              310.0    51.666667     6        9  1.500000\n",
       "2024-08-08              200.0    66.666667     3        5  1.666667\n",
       "2024-09-08              280.0    35.000000     8       18  2.250000\n",
       "2024-10-08               30.0    30.000000     1        1  1.000000"
      ]
     },
     "execution_count": 100,
     "metadata": {},
     "output_type": "execute_result"
    }
   ],
   "source": [
    "# Example: Aggregating sales data by product category\n",
    "aggregated_data = df.groupby('Transaction_Date').agg({\n",
    "    'Total_Amount': ['sum', 'mean', 'count'],\n",
    "    'Quantity': ['sum', 'mean']\n",
    "})\n",
    "aggregated_data"
   ]
  },
  {
   "cell_type": "markdown",
   "metadata": {},
   "source": [
    "### Categorical Columns:\n",
    "- Grouping by product_category, Transaction_Date to find aggregated metrics like total or average sales.\n",
    "\n",
    "### Aggregation Logic:\n",
    "- Aggregating numerical data (e.g., total sales) helps in understanding the overall performance.\n",
    "- Grouping by categories (e.g., product type) allows for comparisons across different segments."
   ]
  },
  {
   "cell_type": "code",
   "execution_count": 101,
   "metadata": {},
   "outputs": [
    {
     "data": {
      "text/html": [
       "<div>\n",
       "<style scoped>\n",
       "    .dataframe tbody tr th:only-of-type {\n",
       "        vertical-align: middle;\n",
       "    }\n",
       "\n",
       "    .dataframe tbody tr th {\n",
       "        vertical-align: top;\n",
       "    }\n",
       "\n",
       "    .dataframe thead th {\n",
       "        text-align: right;\n",
       "    }\n",
       "</style>\n",
       "<table border=\"1\" class=\"dataframe\">\n",
       "  <thead>\n",
       "    <tr style=\"text-align: right;\">\n",
       "      <th></th>\n",
       "      <th>Product_Category</th>\n",
       "      <th>Quantity_sum</th>\n",
       "      <th>Quantity_mean</th>\n",
       "      <th>Quantity_min</th>\n",
       "      <th>Quantity_max</th>\n",
       "      <th>Total_Amount_sum</th>\n",
       "      <th>Total_Amount_mean</th>\n",
       "      <th>Total_Amount_min</th>\n",
       "      <th>Total_Amount_max</th>\n",
       "      <th>Trust_Points_Used_sum</th>\n",
       "      <th>Trust_Points_Used_mean</th>\n",
       "      <th>Discount_Applied_mean</th>\n",
       "    </tr>\n",
       "  </thead>\n",
       "  <tbody>\n",
       "    <tr>\n",
       "      <th>0</th>\n",
       "      <td>Electronics</td>\n",
       "      <td>12</td>\n",
       "      <td>0.923077</td>\n",
       "      <td>-1</td>\n",
       "      <td>3</td>\n",
       "      <td>440.0</td>\n",
       "      <td>33.846154</td>\n",
       "      <td>-500.0</td>\n",
       "      <td>500.0</td>\n",
       "      <td>610</td>\n",
       "      <td>46.923077</td>\n",
       "      <td>20.769231</td>\n",
       "    </tr>\n",
       "    <tr>\n",
       "      <th>1</th>\n",
       "      <td>Fashion</td>\n",
       "      <td>9</td>\n",
       "      <td>1.500000</td>\n",
       "      <td>1</td>\n",
       "      <td>2</td>\n",
       "      <td>2170.0</td>\n",
       "      <td>361.666667</td>\n",
       "      <td>40.0</td>\n",
       "      <td>1000.0</td>\n",
       "      <td>90</td>\n",
       "      <td>15.000000</td>\n",
       "      <td>29.166667</td>\n",
       "    </tr>\n",
       "    <tr>\n",
       "      <th>2</th>\n",
       "      <td>Grocery</td>\n",
       "      <td>19</td>\n",
       "      <td>2.375000</td>\n",
       "      <td>1</td>\n",
       "      <td>5</td>\n",
       "      <td>480.0</td>\n",
       "      <td>60.000000</td>\n",
       "      <td>10.0</td>\n",
       "      <td>200.0</td>\n",
       "      <td>190</td>\n",
       "      <td>23.750000</td>\n",
       "      <td>19.375000</td>\n",
       "    </tr>\n",
       "    <tr>\n",
       "      <th>3</th>\n",
       "      <td>Home Decor</td>\n",
       "      <td>10</td>\n",
       "      <td>1.000000</td>\n",
       "      <td>-1</td>\n",
       "      <td>3</td>\n",
       "      <td>2140.0</td>\n",
       "      <td>214.000000</td>\n",
       "      <td>-30.0</td>\n",
       "      <td>1500.0</td>\n",
       "      <td>320</td>\n",
       "      <td>32.000000</td>\n",
       "      <td>29.500000</td>\n",
       "    </tr>\n",
       "    <tr>\n",
       "      <th>4</th>\n",
       "      <td>Toys</td>\n",
       "      <td>21</td>\n",
       "      <td>1.615385</td>\n",
       "      <td>1</td>\n",
       "      <td>3</td>\n",
       "      <td>920.0</td>\n",
       "      <td>70.769231</td>\n",
       "      <td>10.0</td>\n",
       "      <td>200.0</td>\n",
       "      <td>230</td>\n",
       "      <td>17.692308</td>\n",
       "      <td>21.538462</td>\n",
       "    </tr>\n",
       "  </tbody>\n",
       "</table>\n",
       "</div>"
      ],
      "text/plain": [
       "  Product_Category  Quantity_sum  Quantity_mean  Quantity_min  Quantity_max  \\\n",
       "0      Electronics            12       0.923077            -1             3   \n",
       "1          Fashion             9       1.500000             1             2   \n",
       "2          Grocery            19       2.375000             1             5   \n",
       "3       Home Decor            10       1.000000            -1             3   \n",
       "4             Toys            21       1.615385             1             3   \n",
       "\n",
       "   Total_Amount_sum  Total_Amount_mean  Total_Amount_min  Total_Amount_max  \\\n",
       "0             440.0          33.846154            -500.0             500.0   \n",
       "1            2170.0         361.666667              40.0            1000.0   \n",
       "2             480.0          60.000000              10.0             200.0   \n",
       "3            2140.0         214.000000             -30.0            1500.0   \n",
       "4             920.0          70.769231              10.0             200.0   \n",
       "\n",
       "   Trust_Points_Used_sum  Trust_Points_Used_mean  Discount_Applied_mean  \n",
       "0                    610               46.923077              20.769231  \n",
       "1                     90               15.000000              29.166667  \n",
       "2                    190               23.750000              19.375000  \n",
       "3                    320               32.000000              29.500000  \n",
       "4                    230               17.692308              21.538462  "
      ]
     },
     "execution_count": 101,
     "metadata": {},
     "output_type": "execute_result"
    }
   ],
   "source": [
    "# Data Aggregation and Grouping\n",
    "\n",
    "# Aggregating data to get insights\n",
    "aggregations = {\n",
    "    'Quantity': ['sum', 'mean', 'min', 'max'],\n",
    "    'Total_Amount': ['sum', 'mean', 'min', 'max'],\n",
    "    'Trust_Points_Used': ['sum', 'mean'],\n",
    "    'Discount_Applied': ['mean']\n",
    "}\n",
    "\n",
    "# Perform the aggregation\n",
    "aggregated_data = data.groupby('Product_Category').agg(aggregations)\n",
    "aggregated_data.columns = ['_'.join(col).strip() for col in aggregated_data.columns.values]\n",
    "aggregated_data.reset_index(inplace=True)\n",
    "\n",
    "aggregated_data\n"
   ]
  },
  {
   "cell_type": "markdown",
   "metadata": {},
   "source": [
    "## 3. Data Validation\n",
    "### Validation Process:\n",
    "\n",
    "#### Cross-Verification:\n",
    "\n",
    "- After aggregating, compare the results with raw data to ensure consistency. \n",
    "- For example, sum of all Total_Amount should match the total sales in the original data."
   ]
  },
  {
   "cell_type": "code",
   "execution_count": 102,
   "metadata": {},
   "outputs": [
    {
     "ename": "KeyError",
     "evalue": "'Total_Amount'",
     "output_type": "error",
     "traceback": [
      "\u001b[1;31m---------------------------------------------------------------------------\u001b[0m",
      "\u001b[1;31mKeyError\u001b[0m                                  Traceback (most recent call last)",
      "File \u001b[1;32mc:\\Users\\user\\anaconda3\\Lib\\site-packages\\pandas\\core\\indexes\\base.py:3805\u001b[0m, in \u001b[0;36mIndex.get_loc\u001b[1;34m(self, key)\u001b[0m\n\u001b[0;32m   3804\u001b[0m \u001b[38;5;28;01mtry\u001b[39;00m:\n\u001b[1;32m-> 3805\u001b[0m     \u001b[38;5;28;01mreturn\u001b[39;00m \u001b[38;5;28mself\u001b[39m\u001b[38;5;241m.\u001b[39m_engine\u001b[38;5;241m.\u001b[39mget_loc(casted_key)\n\u001b[0;32m   3806\u001b[0m \u001b[38;5;28;01mexcept\u001b[39;00m \u001b[38;5;167;01mKeyError\u001b[39;00m \u001b[38;5;28;01mas\u001b[39;00m err:\n",
      "File \u001b[1;32mindex.pyx:167\u001b[0m, in \u001b[0;36mpandas._libs.index.IndexEngine.get_loc\u001b[1;34m()\u001b[0m\n",
      "File \u001b[1;32mindex.pyx:196\u001b[0m, in \u001b[0;36mpandas._libs.index.IndexEngine.get_loc\u001b[1;34m()\u001b[0m\n",
      "File \u001b[1;32mpandas\\\\_libs\\\\hashtable_class_helper.pxi:7081\u001b[0m, in \u001b[0;36mpandas._libs.hashtable.PyObjectHashTable.get_item\u001b[1;34m()\u001b[0m\n",
      "File \u001b[1;32mpandas\\\\_libs\\\\hashtable_class_helper.pxi:7089\u001b[0m, in \u001b[0;36mpandas._libs.hashtable.PyObjectHashTable.get_item\u001b[1;34m()\u001b[0m\n",
      "\u001b[1;31mKeyError\u001b[0m: 'Total_Amount'",
      "\nThe above exception was the direct cause of the following exception:\n",
      "\u001b[1;31mKeyError\u001b[0m                                  Traceback (most recent call last)",
      "Cell \u001b[1;32mIn[102], line 3\u001b[0m\n\u001b[0;32m      1\u001b[0m \u001b[38;5;66;03m# Cross-verification\u001b[39;00m\n\u001b[0;32m      2\u001b[0m total_sales \u001b[38;5;241m=\u001b[39m data[\u001b[38;5;124m'\u001b[39m\u001b[38;5;124mTotal_Amount\u001b[39m\u001b[38;5;124m'\u001b[39m]\u001b[38;5;241m.\u001b[39msum()\n\u001b[1;32m----> 3\u001b[0m aggregated_sales \u001b[38;5;241m=\u001b[39m aggregated_data[\u001b[38;5;124m'\u001b[39m\u001b[38;5;124mTotal_Amount\u001b[39m\u001b[38;5;124m'\u001b[39m][\u001b[38;5;124m'\u001b[39m\u001b[38;5;124msum\u001b[39m\u001b[38;5;124m'\u001b[39m]\u001b[38;5;241m.\u001b[39msum()\n\u001b[0;32m      4\u001b[0m \u001b[38;5;28mprint\u001b[39m(total_sales \u001b[38;5;241m==\u001b[39m aggregated_sales)\n",
      "File \u001b[1;32mc:\\Users\\user\\anaconda3\\Lib\\site-packages\\pandas\\core\\frame.py:4102\u001b[0m, in \u001b[0;36mDataFrame.__getitem__\u001b[1;34m(self, key)\u001b[0m\n\u001b[0;32m   4100\u001b[0m \u001b[38;5;28;01mif\u001b[39;00m \u001b[38;5;28mself\u001b[39m\u001b[38;5;241m.\u001b[39mcolumns\u001b[38;5;241m.\u001b[39mnlevels \u001b[38;5;241m>\u001b[39m \u001b[38;5;241m1\u001b[39m:\n\u001b[0;32m   4101\u001b[0m     \u001b[38;5;28;01mreturn\u001b[39;00m \u001b[38;5;28mself\u001b[39m\u001b[38;5;241m.\u001b[39m_getitem_multilevel(key)\n\u001b[1;32m-> 4102\u001b[0m indexer \u001b[38;5;241m=\u001b[39m \u001b[38;5;28mself\u001b[39m\u001b[38;5;241m.\u001b[39mcolumns\u001b[38;5;241m.\u001b[39mget_loc(key)\n\u001b[0;32m   4103\u001b[0m \u001b[38;5;28;01mif\u001b[39;00m is_integer(indexer):\n\u001b[0;32m   4104\u001b[0m     indexer \u001b[38;5;241m=\u001b[39m [indexer]\n",
      "File \u001b[1;32mc:\\Users\\user\\anaconda3\\Lib\\site-packages\\pandas\\core\\indexes\\base.py:3812\u001b[0m, in \u001b[0;36mIndex.get_loc\u001b[1;34m(self, key)\u001b[0m\n\u001b[0;32m   3807\u001b[0m     \u001b[38;5;28;01mif\u001b[39;00m \u001b[38;5;28misinstance\u001b[39m(casted_key, \u001b[38;5;28mslice\u001b[39m) \u001b[38;5;129;01mor\u001b[39;00m (\n\u001b[0;32m   3808\u001b[0m         \u001b[38;5;28misinstance\u001b[39m(casted_key, abc\u001b[38;5;241m.\u001b[39mIterable)\n\u001b[0;32m   3809\u001b[0m         \u001b[38;5;129;01mand\u001b[39;00m \u001b[38;5;28many\u001b[39m(\u001b[38;5;28misinstance\u001b[39m(x, \u001b[38;5;28mslice\u001b[39m) \u001b[38;5;28;01mfor\u001b[39;00m x \u001b[38;5;129;01min\u001b[39;00m casted_key)\n\u001b[0;32m   3810\u001b[0m     ):\n\u001b[0;32m   3811\u001b[0m         \u001b[38;5;28;01mraise\u001b[39;00m InvalidIndexError(key)\n\u001b[1;32m-> 3812\u001b[0m     \u001b[38;5;28;01mraise\u001b[39;00m \u001b[38;5;167;01mKeyError\u001b[39;00m(key) \u001b[38;5;28;01mfrom\u001b[39;00m \u001b[38;5;21;01merr\u001b[39;00m\n\u001b[0;32m   3813\u001b[0m \u001b[38;5;28;01mexcept\u001b[39;00m \u001b[38;5;167;01mTypeError\u001b[39;00m:\n\u001b[0;32m   3814\u001b[0m     \u001b[38;5;66;03m# If we have a listlike key, _check_indexing_error will raise\u001b[39;00m\n\u001b[0;32m   3815\u001b[0m     \u001b[38;5;66;03m#  InvalidIndexError. Otherwise we fall through and re-raise\u001b[39;00m\n\u001b[0;32m   3816\u001b[0m     \u001b[38;5;66;03m#  the TypeError.\u001b[39;00m\n\u001b[0;32m   3817\u001b[0m     \u001b[38;5;28mself\u001b[39m\u001b[38;5;241m.\u001b[39m_check_indexing_error(key)\n",
      "\u001b[1;31mKeyError\u001b[0m: 'Total_Amount'"
     ]
    }
   ],
   "source": [
    "# Cross-verification\n",
    "total_sales = data['Total_Amount'].sum()\n",
    "aggregated_sales = aggregated_data['Total_Amount']['sum'].sum()\n",
    "print(total_sales == aggregated_sales)  # This should be True\n"
   ]
  },
  {
   "cell_type": "code",
   "execution_count": null,
   "metadata": {},
   "outputs": [
    {
     "ename": "KeyError",
     "evalue": "'Quantity_sum_agg'",
     "output_type": "error",
     "traceback": [
      "\u001b[1;31m---------------------------------------------------------------------------\u001b[0m",
      "\u001b[1;31mKeyError\u001b[0m                                  Traceback (most recent call last)",
      "File \u001b[1;32mc:\\Users\\user\\anaconda3\\Lib\\site-packages\\pandas\\core\\indexes\\base.py:3805\u001b[0m, in \u001b[0;36mIndex.get_loc\u001b[1;34m(self, key)\u001b[0m\n\u001b[0;32m   3804\u001b[0m \u001b[38;5;28;01mtry\u001b[39;00m:\n\u001b[1;32m-> 3805\u001b[0m     \u001b[38;5;28;01mreturn\u001b[39;00m \u001b[38;5;28mself\u001b[39m\u001b[38;5;241m.\u001b[39m_engine\u001b[38;5;241m.\u001b[39mget_loc(casted_key)\n\u001b[0;32m   3806\u001b[0m \u001b[38;5;28;01mexcept\u001b[39;00m \u001b[38;5;167;01mKeyError\u001b[39;00m \u001b[38;5;28;01mas\u001b[39;00m err:\n",
      "File \u001b[1;32mindex.pyx:167\u001b[0m, in \u001b[0;36mpandas._libs.index.IndexEngine.get_loc\u001b[1;34m()\u001b[0m\n",
      "File \u001b[1;32mindex.pyx:196\u001b[0m, in \u001b[0;36mpandas._libs.index.IndexEngine.get_loc\u001b[1;34m()\u001b[0m\n",
      "File \u001b[1;32mpandas\\\\_libs\\\\hashtable_class_helper.pxi:7081\u001b[0m, in \u001b[0;36mpandas._libs.hashtable.PyObjectHashTable.get_item\u001b[1;34m()\u001b[0m\n",
      "File \u001b[1;32mpandas\\\\_libs\\\\hashtable_class_helper.pxi:7089\u001b[0m, in \u001b[0;36mpandas._libs.hashtable.PyObjectHashTable.get_item\u001b[1;34m()\u001b[0m\n",
      "\u001b[1;31mKeyError\u001b[0m: 'Quantity_sum_agg'",
      "\nThe above exception was the direct cause of the following exception:\n",
      "\u001b[1;31mKeyError\u001b[0m                                  Traceback (most recent call last)",
      "Cell \u001b[1;32mIn[72], line 17\u001b[0m\n\u001b[0;32m     12\u001b[0m validation \u001b[38;5;241m=\u001b[39m pd\u001b[38;5;241m.\u001b[39mmerge(validation, \n\u001b[0;32m     13\u001b[0m                       validation_total_amount_sum, \n\u001b[0;32m     14\u001b[0m                       on\u001b[38;5;241m=\u001b[39m\u001b[38;5;124m'\u001b[39m\u001b[38;5;124mProduct_Category\u001b[39m\u001b[38;5;124m'\u001b[39m, suffixes\u001b[38;5;241m=\u001b[39m(\u001b[38;5;124m'\u001b[39m\u001b[38;5;124m_agg\u001b[39m\u001b[38;5;124m'\u001b[39m, \u001b[38;5;124m'\u001b[39m\u001b[38;5;124m_orig\u001b[39m\u001b[38;5;124m'\u001b[39m))\n\u001b[0;32m     16\u001b[0m \u001b[38;5;66;03m# Check if the aggregation was correct\u001b[39;00m\n\u001b[1;32m---> 17\u001b[0m validation[\u001b[38;5;124m'\u001b[39m\u001b[38;5;124mQuantity_validation\u001b[39m\u001b[38;5;124m'\u001b[39m] \u001b[38;5;241m=\u001b[39m validation[\u001b[38;5;124m'\u001b[39m\u001b[38;5;124mQuantity_sum_agg\u001b[39m\u001b[38;5;124m'\u001b[39m] \u001b[38;5;241m==\u001b[39m validation[\u001b[38;5;124m'\u001b[39m\u001b[38;5;124mQuantity\u001b[39m\u001b[38;5;124m'\u001b[39m]\n\u001b[0;32m     18\u001b[0m validation[\u001b[38;5;124m'\u001b[39m\u001b[38;5;124mTotalAmount_validation\u001b[39m\u001b[38;5;124m'\u001b[39m] \u001b[38;5;241m=\u001b[39m validation[\u001b[38;5;124m'\u001b[39m\u001b[38;5;124mTotal_Amount_sum_agg\u001b[39m\u001b[38;5;124m'\u001b[39m] \u001b[38;5;241m==\u001b[39m validation[\u001b[38;5;124m'\u001b[39m\u001b[38;5;124mTotal_Amount\u001b[39m\u001b[38;5;124m'\u001b[39m]\n\u001b[0;32m     20\u001b[0m validation[[\u001b[38;5;124m'\u001b[39m\u001b[38;5;124mProduct_Category\u001b[39m\u001b[38;5;124m'\u001b[39m, \u001b[38;5;124m'\u001b[39m\u001b[38;5;124mQuantity_validation\u001b[39m\u001b[38;5;124m'\u001b[39m, \u001b[38;5;124m'\u001b[39m\u001b[38;5;124mTotal_Amount_validation\u001b[39m\u001b[38;5;124m'\u001b[39m]]\n",
      "File \u001b[1;32mc:\\Users\\user\\anaconda3\\Lib\\site-packages\\pandas\\core\\frame.py:4102\u001b[0m, in \u001b[0;36mDataFrame.__getitem__\u001b[1;34m(self, key)\u001b[0m\n\u001b[0;32m   4100\u001b[0m \u001b[38;5;28;01mif\u001b[39;00m \u001b[38;5;28mself\u001b[39m\u001b[38;5;241m.\u001b[39mcolumns\u001b[38;5;241m.\u001b[39mnlevels \u001b[38;5;241m>\u001b[39m \u001b[38;5;241m1\u001b[39m:\n\u001b[0;32m   4101\u001b[0m     \u001b[38;5;28;01mreturn\u001b[39;00m \u001b[38;5;28mself\u001b[39m\u001b[38;5;241m.\u001b[39m_getitem_multilevel(key)\n\u001b[1;32m-> 4102\u001b[0m indexer \u001b[38;5;241m=\u001b[39m \u001b[38;5;28mself\u001b[39m\u001b[38;5;241m.\u001b[39mcolumns\u001b[38;5;241m.\u001b[39mget_loc(key)\n\u001b[0;32m   4103\u001b[0m \u001b[38;5;28;01mif\u001b[39;00m is_integer(indexer):\n\u001b[0;32m   4104\u001b[0m     indexer \u001b[38;5;241m=\u001b[39m [indexer]\n",
      "File \u001b[1;32mc:\\Users\\user\\anaconda3\\Lib\\site-packages\\pandas\\core\\indexes\\base.py:3812\u001b[0m, in \u001b[0;36mIndex.get_loc\u001b[1;34m(self, key)\u001b[0m\n\u001b[0;32m   3807\u001b[0m     \u001b[38;5;28;01mif\u001b[39;00m \u001b[38;5;28misinstance\u001b[39m(casted_key, \u001b[38;5;28mslice\u001b[39m) \u001b[38;5;129;01mor\u001b[39;00m (\n\u001b[0;32m   3808\u001b[0m         \u001b[38;5;28misinstance\u001b[39m(casted_key, abc\u001b[38;5;241m.\u001b[39mIterable)\n\u001b[0;32m   3809\u001b[0m         \u001b[38;5;129;01mand\u001b[39;00m \u001b[38;5;28many\u001b[39m(\u001b[38;5;28misinstance\u001b[39m(x, \u001b[38;5;28mslice\u001b[39m) \u001b[38;5;28;01mfor\u001b[39;00m x \u001b[38;5;129;01min\u001b[39;00m casted_key)\n\u001b[0;32m   3810\u001b[0m     ):\n\u001b[0;32m   3811\u001b[0m         \u001b[38;5;28;01mraise\u001b[39;00m InvalidIndexError(key)\n\u001b[1;32m-> 3812\u001b[0m     \u001b[38;5;28;01mraise\u001b[39;00m \u001b[38;5;167;01mKeyError\u001b[39;00m(key) \u001b[38;5;28;01mfrom\u001b[39;00m \u001b[38;5;21;01merr\u001b[39;00m\n\u001b[0;32m   3813\u001b[0m \u001b[38;5;28;01mexcept\u001b[39;00m \u001b[38;5;167;01mTypeError\u001b[39;00m:\n\u001b[0;32m   3814\u001b[0m     \u001b[38;5;66;03m# If we have a listlike key, _check_indexing_error will raise\u001b[39;00m\n\u001b[0;32m   3815\u001b[0m     \u001b[38;5;66;03m#  InvalidIndexError. Otherwise we fall through and re-raise\u001b[39;00m\n\u001b[0;32m   3816\u001b[0m     \u001b[38;5;66;03m#  the TypeError.\u001b[39;00m\n\u001b[0;32m   3817\u001b[0m     \u001b[38;5;28mself\u001b[39m\u001b[38;5;241m.\u001b[39m_check_indexing_error(key)\n",
      "\u001b[1;31mKeyError\u001b[0m: 'Quantity_sum_agg'"
     ]
    }
   ],
   "source": [
    "# Data Validation\n",
    "\n",
    "# Check for any anomalies in aggregated data\n",
    "# For example, ensuring that Quantity_sum matches the sum of Quantity in original data for each ProductCategory\n",
    "validation_quantity_sum = data.groupby('Product_Category')['Quantity'].sum().reset_index()\n",
    "validation_total_amount_sum = data.groupby('Product_Category')['Total_Amount'].sum().reset_index()\n",
    "\n",
    "# Merging to compare the original sum with the aggregated sum\n",
    "validation = pd.merge(aggregated_data[['Product_Category', 'Quantity_sum', 'Total_Amount_sum']], \n",
    "                      validation_quantity_sum, on='Product_Category', suffixes=('_agg', '_orig'))\n",
    "\n",
    "validation = pd.merge(validation, \n",
    "                      validation_total_amount_sum, \n",
    "                      on='Product_Category', suffixes=('_agg', '_orig'))\n",
    "\n",
    "# Check if the aggregation was correct\n",
    "validation['Quantity_validation'] = validation['Quantity_sum_agg'] == validation['Quantity']\n",
    "validation['Total_Amount_validation'] = validation['Total_Amount_sum_agg'] == validation['Total_Amount']\n",
    "\n",
    "validation[['ProductCategory', 'Quantity_validation', 'TotalAmount_validation']]\n"
   ]
  },
  {
   "cell_type": "markdown",
   "metadata": {},
   "source": [
    "#### Edge Cases:\n",
    "\n",
    "- Consider scenarios like negative sales, zero quantity, or extremely high sales. Validate how these are handled."
   ]
  },
  {
   "cell_type": "code",
   "execution_count": null,
   "metadata": {},
   "outputs": [
    {
     "data": {
      "text/html": [
       "<div>\n",
       "<style scoped>\n",
       "    .dataframe tbody tr th:only-of-type {\n",
       "        vertical-align: middle;\n",
       "    }\n",
       "\n",
       "    .dataframe tbody tr th {\n",
       "        vertical-align: top;\n",
       "    }\n",
       "\n",
       "    .dataframe thead th {\n",
       "        text-align: right;\n",
       "    }\n",
       "</style>\n",
       "<table border=\"1\" class=\"dataframe\">\n",
       "  <thead>\n",
       "    <tr style=\"text-align: right;\">\n",
       "      <th></th>\n",
       "      <th>Transaction_ID</th>\n",
       "      <th>Customer_ID</th>\n",
       "      <th>Transaction_Date</th>\n",
       "      <th>Product_ID</th>\n",
       "      <th>Product_Category</th>\n",
       "      <th>Quantity</th>\n",
       "      <th>Price_Per_Unit</th>\n",
       "      <th>Total_Amount</th>\n",
       "      <th>Trust_Points_Used</th>\n",
       "      <th>Payment_Method</th>\n",
       "      <th>Discount_Applied</th>\n",
       "    </tr>\n",
       "  </thead>\n",
       "  <tbody>\n",
       "    <tr>\n",
       "      <th>6</th>\n",
       "      <td>7</td>\n",
       "      <td>1001.0</td>\n",
       "      <td>2024-01-08</td>\n",
       "      <td>2007</td>\n",
       "      <td>Home Decor</td>\n",
       "      <td>-1</td>\n",
       "      <td>30.0</td>\n",
       "      <td>-30.0</td>\n",
       "      <td>-10</td>\n",
       "      <td>Cash</td>\n",
       "      <td>20.0</td>\n",
       "    </tr>\n",
       "    <tr>\n",
       "      <th>34</th>\n",
       "      <td>35</td>\n",
       "      <td>1002.0</td>\n",
       "      <td>2024-06-08</td>\n",
       "      <td>2002</td>\n",
       "      <td>Electronics</td>\n",
       "      <td>-1</td>\n",
       "      <td>500.0</td>\n",
       "      <td>-500.0</td>\n",
       "      <td>100</td>\n",
       "      <td>Trust Points</td>\n",
       "      <td>30.0</td>\n",
       "    </tr>\n",
       "    <tr>\n",
       "      <th>38</th>\n",
       "      <td>39</td>\n",
       "      <td>1004.0</td>\n",
       "      <td>2024-06-08</td>\n",
       "      <td>2007</td>\n",
       "      <td>Home Decor</td>\n",
       "      <td>-1</td>\n",
       "      <td>10.0</td>\n",
       "      <td>-10.0</td>\n",
       "      <td>20</td>\n",
       "      <td>Credit Card</td>\n",
       "      <td>20.0</td>\n",
       "    </tr>\n",
       "  </tbody>\n",
       "</table>\n",
       "</div>"
      ],
      "text/plain": [
       "    Transaction_ID  Customer_ID Transaction_Date  Product_ID Product_Category  \\\n",
       "6                7       1001.0       2024-01-08        2007       Home Decor   \n",
       "34              35       1002.0       2024-06-08        2002      Electronics   \n",
       "38              39       1004.0       2024-06-08        2007       Home Decor   \n",
       "\n",
       "    Quantity  Price_Per_Unit  Total_Amount  Trust_Points_Used Payment_Method  \\\n",
       "6         -1            30.0         -30.0                -10           Cash   \n",
       "34        -1           500.0        -500.0                100   Trust Points   \n",
       "38        -1            10.0         -10.0                 20    Credit Card   \n",
       "\n",
       "    Discount_Applied  \n",
       "6               20.0  \n",
       "34              30.0  \n",
       "38              20.0  "
      ]
     },
     "execution_count": 20,
     "metadata": {},
     "output_type": "execute_result"
    }
   ],
   "source": [
    "# Edge case check: Negative sales\n",
    "negative_sales = data[data['Total_Amount'] < 0]\n",
    "negative_sales\n"
   ]
  },
  {
   "cell_type": "markdown",
   "metadata": {},
   "source": [
    "#### Data Integrity:\n",
    "\n",
    "- Ensure no data is lost during preprocessing. This can be checked by comparing row counts before and after preprocessing."
   ]
  },
  {
   "cell_type": "code",
   "execution_count": null,
   "metadata": {},
   "outputs": [
    {
     "name": "stdout",
     "output_type": "stream",
     "text": [
      "True\n"
     ]
    }
   ],
   "source": [
    "# Integrity check: Compare row counts\n",
    "original_count = len(data)\n",
    "# After preprocessing, compare with the new count\n",
    "new_count = len(data)\n",
    "print(original_count == new_count)  # Should be True\n"
   ]
  },
  {
   "cell_type": "markdown",
   "metadata": {},
   "source": [
    "## 4. Data Visualizations"
   ]
  },
  {
   "cell_type": "markdown",
   "metadata": {},
   "source": [
    "### Possible Projections:\n",
    "\n",
    "- Time Series Analysis: Use a line chart for analyzing sales trends over time."
   ]
  },
  {
   "cell_type": "code",
   "execution_count": 103,
   "metadata": {},
   "outputs": [
    {
     "data": {
      "image/png": "[encoded data removed]",
      "text/plain": [
       "<Figure size 1200x600 with 1 Axes>"
      ]
     },
     "metadata": {},
     "output_type": "display_data"
    }
   ],
   "source": [
    "import matplotlib.pyplot as plt\n",
    "\n",
    "# Example: Sales over time\n",
    "plt.figure(figsize=(12, 6))  # Set the figure size (width, height)\n",
    "data.groupby('Transaction_Date')['Total_Amount'].sum().plot(kind='line')\n",
    "plt.title('Sales Over Time')\n",
    "plt.xlabel('Transaction Date')\n",
    "plt.ylabel('Total Sales')\n",
    "plt.show()\n"
   ]
  },
  {
   "cell_type": "markdown",
   "metadata": {},
   "source": [
    "- Category Comparisons: Bar chart to compare sales across categories."
   ]
  },
  {
   "cell_type": "code",
   "execution_count": null,
   "metadata": {},
   "outputs": [
    {
     "data": {
      "image/png": "[encoded data removed]",
      "text/plain": [
       "<Figure size 640x480 with 1 Axes>"
      ]
     },
     "metadata": {},
     "output_type": "display_data"
    }
   ],
   "source": [
    "# Example: Sales by product category\n",
    "data.groupby('Product_Category')['Total_Amount'].sum().plot(kind='bar')\n",
    "plt.title('Sales by Product Category')\n",
    "plt.show()\n"
   ]
  },
  {
   "cell_type": "markdown",
   "metadata": {},
   "source": [
    "- Linear Projections:\n",
    "\n",
    "Scatter plots with trend lines help in identifying linear relationships."
   ]
  },
  {
   "cell_type": "code",
   "execution_count": null,
   "metadata": {},
   "outputs": [
    {
     "data": {
      "image/png": "[encoded data removed]",
      "text/plain": [
       "<Figure size 640x480 with 1 Axes>"
      ]
     },
     "metadata": {},
     "output_type": "display_data"
    }
   ],
   "source": [
    "# Scatter plot with trend line\n",
    "import seaborn as sns\n",
    "sns.regplot(x='Quantity', y='Total_Amount', data=data)\n",
    "plt.title('Quantity vs Sales Amount')\n",
    "plt.show()\n"
   ]
  },
  {
   "cell_type": "code",
   "execution_count": null,
   "metadata": {},
   "outputs": [
    {
     "data": {
      "image/png": "[encoded data removed]",
      "text/plain": [
       "<Figure size 1000x600 with 1 Axes>"
      ]
     },
     "metadata": {},
     "output_type": "display_data"
    }
   ],
   "source": [
    "import matplotlib.pyplot as plt\n",
    "import seaborn as sns\n",
    "\n",
    "# Scatter plot to show correlation between Price Per Unit and Quantity\n",
    "plt.figure(figsize=(10, 6))\n",
    "sns.scatterplot(x='Price_Per_Unit', y='Quantity', data=data)\n",
    "\n",
    "plt.title('Price Per Unit vs. Quantity')\n",
    "plt.xlabel('Price Per Unit')\n",
    "plt.ylabel('Quantity')\n",
    "plt.grid(True)\n",
    "plt.show()\n"
   ]
  },
  {
   "cell_type": "code",
   "execution_count": null,
   "metadata": {},
   "outputs": [
    {
     "data": {
      "image/png": "[encoded data removed]",
      "text/plain": [
       "<Figure size 1000x600 with 1 Axes>"
      ]
     },
     "metadata": {},
     "output_type": "display_data"
    }
   ],
   "source": [
    "# Aggregate the data by Payment Method\n",
    "stacked_data = data.groupby(['Payment_Method', 'Product_Category']).agg({'Total_Amount': 'sum'}).unstack()\n",
    "\n",
    "# Stacked bar chart to show parts of a whole across different categories\n",
    "stacked_data.plot(kind='bar', stacked=True, figsize=(10, 6))\n",
    "\n",
    "plt.title('Total Amount by Payment Method and Product Category')\n",
    "plt.xlabel('Payment Method')\n",
    "plt.ylabel('Total Amount')\n",
    "plt.legend(title='Product Category')\n",
    "plt.grid(True)\n",
    "plt.show()\n"
   ]
  },
  {
   "cell_type": "markdown",
   "metadata": {},
   "source": [
    "For different combinations of projections:\n",
    "\n",
    "1. **Bar Graph**: Suitable for comparing discrete categories (e.g., Product Category vs. Total Amount).\n",
    "2. **Line Chart**: Ideal for showing trends over time (e.g., Transaction Date vs. Total Amount).\n",
    "3. **Scatter Plot**: Best for identifying correlations between two continuous variables (e.g., Price Per Unit vs. Quantity).\n",
    "4. **Stacked Bar Chart**: Useful for showing parts of a whole across different categories (e.g., Payment Method vs. Total Amount). \n",
    "\n",
    "Each type is chosen based on the nature of the data (categorical vs. continuous) and the relationship you want to visualize."
   ]
  }
 ],
 "metadata": {
  "kernelspec": {
   "display_name": "base",
   "language": "python",
   "name": "python3"
  },
  "language_info": {
   "codemirror_mode": {
    "name": "ipython",
    "version": 3
   },
   "file_extension": ".py",
   "mimetype": "text/x-python",
   "name": "python",
   "nbconvert_exporter": "python",
   "pygments_lexer": "ipython3",
   "version": "3.11.9"
  }
 },
 "nbformat": 4,
 "nbformat_minor": 2
}
